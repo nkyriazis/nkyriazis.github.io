{
 "metadata": {
  "language_info": {
   "codemirror_mode": {
    "name": "ipython",
    "version": 3
   },
   "file_extension": ".py",
   "mimetype": "text/x-python",
   "name": "python",
   "nbconvert_exporter": "python",
   "pygments_lexer": "ipython3",
   "version": "3.7.6-final"
  },
  "orig_nbformat": 2,
  "kernelspec": {
   "name": "python37664bitbasecondaff2e99e1f45d4d6787f1a55b8424bd9c",
   "display_name": "Python 3.7.6 64-bit ('base': conda)"
  }
 },
 "nbformat": 4,
 "nbformat_minor": 2,
 "cells": [
  {
   "cell_type": "code",
   "execution_count": null,
   "metadata": {},
   "outputs": [],
   "source": [
    "import bibtexparser\n",
    "from textwrap import dedent"
   ]
  },
  {
   "cell_type": "code",
   "execution_count": null,
   "metadata": {},
   "outputs": [],
   "source": [
    "db = bibtexparser.load(open('../_bibliography/references.bib'))"
   ]
  },
  {
   "cell_type": "code",
   "execution_count": null,
   "metadata": {
    "tags": []
   },
   "outputs": [],
   "source": [
    "for entry in db.entries:\n",
    "    id = entry.get('ID', '')\n",
    "    year = entry.get('year', '2000')\n",
    "    month = entry.get('month', '01')\n",
    "    day = entry.get('day', '01')\n",
    "    venue = entry.get('booktitle', '')\n",
    "    if venue == '':\n",
    "        venue = entry.get('journal', '')\n",
    "    if venue == '':\n",
    "        venue = entry.get('school', '')\n",
    "    if venue == '':\n",
    "        venue = entry.get('institution', '')\n",
    "    title = entry['title']\n",
    "    youtube = entry.get('youtube', None)\n",
    "    if youtube:\n",
    "        teaser = f\"https://img.youtube.com/vi/{youtube}/0.jpg\"\n",
    "    else:\n",
    "        teaser = \"\"\n",
    "\n",
    "    entry = f\"\"\"---\n",
    "title: \"{title}\"\n",
    "excerpt: \"\"\n",
    "collection: publications\n",
    "date: {year}-{month}-{day}\n",
    "venue: {venue}\n",
    "permalink: /publications/{id}\n",
    "header:\n",
    "  teaser: {teaser}\n",
    "---\n",
    "{{% include bib.html bibid=\"{id}\" %}}\n",
    "\"\"\"\n",
    "    with open(f'../_publications/{id}.md', 'w') as f:\n",
    "        f.write(dedent(entry))"
   ]
  },
  {
   "cell_type": "code",
   "execution_count": null,
   "metadata": {},
   "outputs": [],
   "source": []
  }
 ]
}